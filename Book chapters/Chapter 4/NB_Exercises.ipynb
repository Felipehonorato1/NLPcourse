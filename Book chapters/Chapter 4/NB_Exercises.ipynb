{
 "cells": [
  {
   "cell_type": "markdown",
   "metadata": {},
   "source": [
    "## 4.1 Assume the following likelihoods for each word being part of a positive or negative movie review, and equal prior probabilities for each class.\n",
    "EXERCISES 21  \n",
    "pos neg  \n",
    "I 0.09 0.16    \n",
    "always 0.07 0.06  \n",
    "like 0.29 0.06  \n",
    "foreign 0.04 0.15  \n",
    "films 0.08 0.11  \n",
    "##### What class will Naive bayes assign to the sentence “I always like foreign films.”?"
   ]
  },
  {
   "cell_type": "code",
   "execution_count": 1,
   "metadata": {},
   "outputs": [],
   "source": [
    "prior_pos = prior_neg = 0.5"
   ]
  },
  {
   "cell_type": "code",
   "execution_count": 2,
   "metadata": {},
   "outputs": [
    {
     "name": "stdout",
     "output_type": "stream",
     "text": [
      "Negative\n"
     ]
    }
   ],
   "source": [
    "p_full_pos = prior_pos * 0.09 * 0.07 * 0.29 * 0.04 * 0.08\n",
    "p_full_neg = prior_neg * 0.16 * 0.06 * 0.06 * 0.15 * 0.11\n",
    "if p_full_pos > p_full_neg:\n",
    "    print('Positive')\n",
    "else:\n",
    "    print('Negative')"
   ]
  },
  {
   "cell_type": "markdown",
   "metadata": {},
   "source": [
    "## 4.2 Given the following short movie reviews, each labeled with a genre, either comedy or action:\n",
    "1. fun, couple, love, love -> comedy\n",
    "2. fast, furious, shoot -> action\n",
    "3. couple, fly, fast, fun, fun -> comedy\n",
    "4. furious, shoot, shoot, fun -> action\n",
    "5. fly, fast, shoot, love -> action\n",
    "  \n",
    "and a new document D:\n",
    "fast, couple, shoot, fly  \n",
    "##### compute the most likely class for D. Assume a naive Bayes classifier and use add-1 smoothing for the likelihoods"
   ]
  },
  {
   "cell_type": "code",
   "execution_count": 4,
   "metadata": {},
   "outputs": [],
   "source": [
    "p_fast_comedy = 2/9+7 \n",
    "p_fast_action = 3/10+7\n",
    "\n",
    "p_couple_comedy = 3/9+7\n",
    "p_couple_action = 1/10+7 \n",
    "\n",
    "p_shoot_comedy = 1/9+7\n",
    "p_shoot_action = 4/10+7\n",
    "\n",
    "p_fly_comedy = 2/9+7\n",
    "p_fly_action = 2/10+7\n"
   ]
  },
  {
   "cell_type": "code",
   "execution_count": 5,
   "metadata": {},
   "outputs": [],
   "source": [
    "prior_action = 3/5\n",
    "prior_comedy = 2/5"
   ]
  },
  {
   "cell_type": "code",
   "execution_count": 6,
   "metadata": {},
   "outputs": [],
   "source": [
    "d_comedy = prior_comedy * p_fast_comedy * p_couple_comedy * p_shoot_comedy * p_fly_comedy\n",
    "d_action = prior_action * p_fast_action * p_couple_action * p_shoot_action * p_fly_action"
   ]
  },
  {
   "cell_type": "code",
   "execution_count": 8,
   "metadata": {},
   "outputs": [
    {
     "name": "stdout",
     "output_type": "stream",
     "text": [
      "Action film\n"
     ]
    }
   ],
   "source": [
    "if d_action > d_comedy:\n",
    "    print('Action film')"
   ]
  },
  {
   "cell_type": "markdown",
   "metadata": {},
   "source": [
    "# Train two models, multinomial naive Bayes and binarized naive Bayes, both with add-1 smoothing, on the following document counts for key sentimentwords, with positive or negative class assigned as noted.\n",
    " \n",
    "“good” “poor” “great” (class)  \n",
    "d1. 3 0 3 pos  \n",
    "d2. 0 1 2 pos  \n",
    "d3. 1 3 0 neg  \n",
    "d4. 1 5 2 neg  \n",
    "d5. 0 2 0 neg  \n",
    "Use both naive Bayes models to assign a class (pos or neg) to this sentence:\n",
    "A good, good plot and great characters, but poor acting.\n",
    "Recall from page 6 that with naive Bayes text classification, we simply ignore\n",
    "(throw out) any word that never occurred in the training document. (We don’t\n",
    "throw out words that appear in some classes but not others; that’s what addone smoothing is for.) Do the two models agree or disagree?"
   ]
  },
  {
   "cell_type": "code",
   "execution_count": null,
   "metadata": {},
   "outputs": [],
   "source": []
  }
 ],
 "metadata": {
  "kernelspec": {
   "display_name": "Python 3",
   "language": "python",
   "name": "python3"
  },
  "language_info": {
   "codemirror_mode": {
    "name": "ipython",
    "version": 3
   },
   "file_extension": ".py",
   "mimetype": "text/x-python",
   "name": "python",
   "nbconvert_exporter": "python",
   "pygments_lexer": "ipython3",
   "version": "3.7.4"
  }
 },
 "nbformat": 4,
 "nbformat_minor": 2
}
