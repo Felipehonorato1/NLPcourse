{
 "cells": [
  {
   "cell_type": "markdown",
   "metadata": {},
   "source": [
    "# Bag of Words model"
   ]
  },
  {
   "cell_type": "markdown",
   "metadata": {},
   "source": [
    "O bag of words consiste em vetorizar um documento de texto de acordo com um vocabulário definido. O vetor final de um documento apresenta a quantificação de quantas ocorrências determinada palavra têm no documento de texto."
   ]
  },
  {
   "cell_type": "code",
   "execution_count": 1,
   "metadata": {},
   "outputs": [],
   "source": [
    "from collections import Counter\n",
    "import numpy as np"
   ]
  },
  {
   "cell_type": "markdown",
   "metadata": {},
   "source": [
    "#### From scratch"
   ]
  },
  {
   "cell_type": "code",
   "execution_count": 2,
   "metadata": {},
   "outputs": [],
   "source": [
    "class TAIL_BoW:\n",
    "    def __init__(self, vocab_size, min_count):\n",
    "        # Vocab size é o tamanho maximo do nosso vocabulario\n",
    "        self.vocab_size = vocab_size\n",
    "        # min_count é a quantidade minima de ocorrencias de uma palavra para essa ser considerada no nosso vetor\n",
    "        self.min_count = min_count\n",
    "        self.vocab = []\n",
    "        self.vocab_vec = []\n",
    "    \n",
    "    def fit(self, words_in_doc):\n",
    "        words_in_doc = [word for word in words_in_doc if words_in_doc.count(word) >= self.min_count]       \n",
    "        result = sorted(words_in_doc, key = words_in_doc.count, reverse = True) \n",
    "        self.vocab = list(set(result[:self.vocab_size]))\n",
    "        self.vocab_vec = np.zeros(len(self.vocab))\n",
    "        \n",
    "    def transform(self, query_doc_words):\n",
    "        output_vector = np.zeros(len(self.vocab))\n",
    "        for word in query_doc_words:\n",
    "            if word in self.vocab:\n",
    "                index = self.vocab.index(word)\n",
    "                output_vector[index] += 1\n",
    "            \n",
    "        return output_vector\n",
    "    \n",
    "    def get_vocab_words(self):\n",
    "        return self.vocab\n",
    "    \n",
    "\n",
    "    def fit_and_transform(self,words):\n",
    "        self.fit(words)\n",
    "        return self.transform(words)\n",
    "        \n",
    "        \n",
    "            \n",
    "    "
   ]
  },
  {
   "cell_type": "code",
   "execution_count": 3,
   "metadata": {},
   "outputs": [],
   "source": [
    "vectorizer = TAIL_BoW(15,1)"
   ]
  },
  {
   "cell_type": "code",
   "execution_count": 4,
   "metadata": {},
   "outputs": [],
   "source": [
    "vectorizer.fit(['hello','hi','how','hello','hi','apple','stonk','how'])"
   ]
  },
  {
   "cell_type": "code",
   "execution_count": 5,
   "metadata": {},
   "outputs": [
    {
     "data": {
      "text/plain": [
       "array([2., 2., 1., 0., 1.])"
      ]
     },
     "execution_count": 5,
     "metadata": {},
     "output_type": "execute_result"
    }
   ],
   "source": [
    "vectorizer.transform(['hello','hi','how','hello','hi','stonk'])"
   ]
  },
  {
   "cell_type": "code",
   "execution_count": 6,
   "metadata": {},
   "outputs": [
    {
     "data": {
      "text/plain": [
       "['hello', 'hi', 'stonk', 'apple', 'how']"
      ]
     },
     "execution_count": 6,
     "metadata": {},
     "output_type": "execute_result"
    }
   ],
   "source": [
    "vectorizer.get_vocab_words()"
   ]
  },
  {
   "cell_type": "code",
   "execution_count": 7,
   "metadata": {},
   "outputs": [
    {
     "data": {
      "text/plain": [
       "array([2., 2., 1., 1., 1., 1.])"
      ]
     },
     "execution_count": 7,
     "metadata": {},
     "output_type": "execute_result"
    }
   ],
   "source": [
    "vectorizer.fit_and_transform(['hello','hi','how','hello','hi','apple','stonk','capacete'])"
   ]
  },
  {
   "cell_type": "code",
   "execution_count": null,
   "metadata": {},
   "outputs": [],
   "source": []
  }
 ],
 "metadata": {
  "kernelspec": {
   "display_name": "Python 3",
   "language": "python",
   "name": "python3"
  },
  "language_info": {
   "codemirror_mode": {
    "name": "ipython",
    "version": 3
   },
   "file_extension": ".py",
   "mimetype": "text/x-python",
   "name": "python",
   "nbconvert_exporter": "python",
   "pygments_lexer": "ipython3",
   "version": "3.7.4"
  }
 },
 "nbformat": 4,
 "nbformat_minor": 2
}
