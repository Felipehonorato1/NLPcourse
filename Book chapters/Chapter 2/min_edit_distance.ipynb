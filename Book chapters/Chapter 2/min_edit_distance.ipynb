{
 "cells": [
  {
   "cell_type": "code",
   "execution_count": 1,
   "metadata": {},
   "outputs": [],
   "source": [
    "import numpy as np"
   ]
  },
  {
   "cell_type": "code",
   "execution_count": 15,
   "metadata": {},
   "outputs": [],
   "source": [
    "def min_edit_distance(target,source):\n",
    "    # Target word is the one we're trying to match from our source word.\n",
    "    # In our matrix, the each caracter in our target word is going to be a row and our columns are going to be our source word\n",
    "    \n",
    "    target_list = [letter for letter in target]\n",
    "    source_list = [letter for letter in source]\n",
    "    \n",
    "    matrix = np.zeros((len(source_list), len(target_list)))\n",
    "    print(matrix)\n",
    "    \n",
    "    # First row, since we start with our </s> character \n",
    "    matrix[0] = [j for j in range(len(target_list))]\n",
    "    matrix[:,0] = [j for j in range(len(source_list))]\n",
    "\n",
    "    # Fill the array \n",
    "    for column in range(1, len(target_list)):\n",
    "        for row in range(1, len(source_list)):\n",
    "            if target_list[column] != source_list[row]:\n",
    "                matrix[row,column]= min(matrix[row,column-1], matrix[row-1, column]) + 1\n",
    "    \n",
    "            else:\n",
    "                matrix[row,column] = matrix[row-1, column-1]\n",
    "    \n",
    "    return matrix\n"
   ]
  },
  {
   "cell_type": "code",
   "execution_count": null,
   "metadata": {},
   "outputs": [],
   "source": []
  }
 ],
 "metadata": {
  "kernelspec": {
   "display_name": "Python 3",
   "language": "python",
   "name": "python3"
  },
  "language_info": {
   "codemirror_mode": {
    "name": "ipython",
    "version": 3
   },
   "file_extension": ".py",
   "mimetype": "text/x-python",
   "name": "python",
   "nbconvert_exporter": "python",
   "pygments_lexer": "ipython3",
   "version": "3.7.4"
  }
 },
 "nbformat": 4,
 "nbformat_minor": 2
}
