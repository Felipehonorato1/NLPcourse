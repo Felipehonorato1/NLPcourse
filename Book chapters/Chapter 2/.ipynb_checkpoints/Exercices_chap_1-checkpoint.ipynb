{
 "cells": [
  {
   "cell_type": "markdown",
   "metadata": {},
   "source": [
    "# Exercises (Regular expressions and Edit distance)"
   ]
  },
  {
   "cell_type": "code",
   "execution_count": 1,
   "metadata": {},
   "outputs": [],
   "source": [
    "import re"
   ]
  },
  {
   "cell_type": "markdown",
   "metadata": {},
   "source": [
    "## 2.1 Write regular expressions for the following languages.\n",
    "1. the set of all alphabetic strings;\n",
    "2. the set of all lower case alphabetic strings ending in a b;\n",
    "3. the set of all strings from the alphabet a,b such that each a is immediately preceded by and immediately followed by a b;\n",
    "***\n"
   ]
  },
  {
   "cell_type": "code",
   "execution_count": 2,
   "metadata": {},
   "outputs": [],
   "source": [
    "all_alphabetic_strings = re.compile(r'[a-zA-Z]')\n",
    "lower_cases_ending_in_b = re.compile(r'[a-z]+b')\n",
    "b_a_b = re.compile(r'w*?bab\\w?')"
   ]
  },
  {
   "cell_type": "markdown",
   "metadata": {},
   "source": [
    "## 2.2  Write regular expressions for the following languages. By “word”, we mean an alphabetic string separated from other words by whitespace, any relevant punctuation, line breaks, and so forth.   \n",
    "1. the set of all strings with two consecutive repeated words (e.g., “Humbert Humbert” and “the the” but not “the bug” or “the big bug”);\n",
    "2. all strings that start at the beginning of the line with an integer and that\n",
    "end at the end of the line with a word;\n",
    "3. all strings that have both the word grotto and the word raven in them\n",
    "(but not, e.g., words like grottos that merely contain the word grotto);\n",
    "4. write a pattern that places the first word of an English sentence in a\n",
    "register. Deal with punctuation."
   ]
  },
  {
   "cell_type": "code",
   "execution_count": 10,
   "metadata": {},
   "outputs": [],
   "source": [
    "consecutive_repeated_words = re.compile(r'\\b(\\w+)\\s\\1\\b')\n",
    "int_beginning_word_ending = re.compile(r'^\\d.+\\w$')\n",
    "grotto_raven = re.compile(r'\\bgrotto\\b.*?raven\\b | \\braven\\b.+?\\bgrotto\\b')\n",
    "# 4: "
   ]
  },
  {
   "cell_type": "markdown",
   "metadata": {},
   "source": [
    "## 2.3 Implement an ELIZA-like program, using substitutions such as those describedon page 11. You might want to choose a different domain than a Rogerian psychologist, although keep in mind that you would need a domain in which yourprogram can legitimately engage in a lot of simple repetition."
   ]
  },
  {
   "cell_type": "code",
   "execution_count": 45,
   "metadata": {},
   "outputs": [],
   "source": [
    "missing_stuff = re.compile(r'it\\'?s\\smissing\\s(\\w?\\s?\\b\\w+)')"
   ]
  },
  {
   "cell_type": "code",
   "execution_count": 51,
   "metadata": {},
   "outputs": [],
   "source": [
    "test_string = 'its missing a frigobar'"
   ]
  },
  {
   "cell_type": "code",
   "execution_count": 52,
   "metadata": {},
   "outputs": [
    {
     "name": "stdout",
     "output_type": "stream",
     "text": [
      "Do you want me to buy a frigobar?\n"
     ]
    }
   ],
   "source": [
    "if missing_stuff.search(test_string):\n",
    "    match = \" \".join(missing_stuff.findall(test_string))\n",
    "    print(f'Do you want me to buy {match}?')"
   ]
  },
  {
   "cell_type": "markdown",
   "metadata": {},
   "source": [
    "## 2.4 Compute the edit distance (using insertion cost 1, deletion cost 1, substitution cost 1) of “leda” to “deal”. Show your work (using the edit distance grid)."
   ]
  },
  {
   "cell_type": "code",
   "execution_count": 7,
   "metadata": {},
   "outputs": [],
   "source": [
    "from min_edit_distance import min_edit_distance"
   ]
  },
  {
   "cell_type": "code",
   "execution_count": 8,
   "metadata": {},
   "outputs": [
    {
     "name": "stdout",
     "output_type": "stream",
     "text": [
      "[[0. 0. 0. 0. 0.]\n",
      " [0. 0. 0. 0. 0.]\n",
      " [0. 0. 0. 0. 0.]\n",
      " [0. 0. 0. 0. 0.]\n",
      " [0. 0. 0. 0. 0.]]\n"
     ]
    },
    {
     "data": {
      "text/plain": [
       "array([[0., 1., 2., 3., 4.],\n",
       "       [1., 2., 3., 2., 3.],\n",
       "       [2., 3., 2., 3., 4.],\n",
       "       [3., 4., 3., 4., 3.],\n",
       "       [4., 3., 4., 5., 4.]])"
      ]
     },
     "execution_count": 8,
     "metadata": {},
     "output_type": "execute_result"
    }
   ],
   "source": [
    "min_edit_distance(\"#leda\",\"#deal\")"
   ]
  },
  {
   "cell_type": "code",
   "execution_count": null,
   "metadata": {},
   "outputs": [],
   "source": []
  }
 ],
 "metadata": {
  "kernelspec": {
   "display_name": "Python 3",
   "language": "python",
   "name": "python3"
  },
  "language_info": {
   "codemirror_mode": {
    "name": "ipython",
    "version": 3
   },
   "file_extension": ".py",
   "mimetype": "text/x-python",
   "name": "python",
   "nbconvert_exporter": "python",
   "pygments_lexer": "ipython3",
   "version": "3.7.4"
  }
 },
 "nbformat": 4,
 "nbformat_minor": 2
}
