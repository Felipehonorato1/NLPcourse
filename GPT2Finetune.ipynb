{
  "nbformat": 4,
  "nbformat_minor": 0,
  "metadata": {
    "accelerator": "GPU",
    "colab": {
      "name": "GPT2Finetune.ipynb",
      "provenance": [],
      "collapsed_sections": [],
      "mount_file_id": "1Zr_MCRHecQ_aBv6EYiCO4-fTyKC1VoWT",
      "authorship_tag": "ABX9TyPIlkMB2wvLLPNohwSMDcOG",
      "include_colab_link": true
    },
    "kernelspec": {
      "display_name": "Python 3",
      "name": "python3"
    },
    "language_info": {
      "name": "python"
    }
  },
  "cells": [
    {
      "cell_type": "markdown",
      "metadata": {
        "id": "view-in-github",
        "colab_type": "text"
      },
      "source": [
        "<a href=\"https://colab.research.google.com/github/Felipehonorato1/NaturalLanguageProcessing/blob/main/GPT2Finetune.ipynb\" target=\"_parent\"><img src=\"https://colab.research.google.com/assets/colab-badge.svg\" alt=\"Open In Colab\"/></a>"
      ]
    },
    {
      "cell_type": "code",
      "metadata": {
        "id": "Gu8QO242-B-0"
      },
      "source": [
        "%%capture \n",
        "!pip install transformers\n",
        "#!pip install datasets\n",
        "#!unzip tripadvisor_hotel_reviews.zip"
      ],
      "execution_count": 1,
      "outputs": []
    },
    {
      "cell_type": "code",
      "metadata": {
        "colab": {
          "base_uri": "https://localhost:8080/"
        },
        "id": "7_q9g0v6s3ZO",
        "outputId": "cdd65d52-ce7b-4803-fbef-88d37694d9df"
      },
      "source": [
        "from google.colab import drive\n",
        "drive.mount('/content/drive', force_remount = False)"
      ],
      "execution_count": 2,
      "outputs": [
        {
          "output_type": "stream",
          "text": [
            "Drive already mounted at /content/drive; to attempt to forcibly remount, call drive.mount(\"/content/drive\", force_remount=True).\n"
          ],
          "name": "stdout"
        }
      ]
    },
    {
      "cell_type": "code",
      "metadata": {
        "colab": {
          "base_uri": "https://localhost:8080/"
        },
        "id": "6WMGafFbM0Ky",
        "outputId": "f718db8a-0b70-4081-d738-93b77cbf61ef"
      },
      "source": [
        "!nvidia-smi"
      ],
      "execution_count": 3,
      "outputs": [
        {
          "output_type": "stream",
          "text": [
            "Wed Mar 24 15:13:48 2021       \n",
            "+-----------------------------------------------------------------------------+\n",
            "| NVIDIA-SMI 460.56       Driver Version: 460.32.03    CUDA Version: 11.2     |\n",
            "|-------------------------------+----------------------+----------------------+\n",
            "| GPU  Name        Persistence-M| Bus-Id        Disp.A | Volatile Uncorr. ECC |\n",
            "| Fan  Temp  Perf  Pwr:Usage/Cap|         Memory-Usage | GPU-Util  Compute M. |\n",
            "|                               |                      |               MIG M. |\n",
            "|===============================+======================+======================|\n",
            "|   0  Tesla T4            Off  | 00000000:00:04.0 Off |                    0 |\n",
            "| N/A   75C    P8    12W /  70W |      0MiB / 15109MiB |      0%      Default |\n",
            "|                               |                      |                  N/A |\n",
            "+-------------------------------+----------------------+----------------------+\n",
            "                                                                               \n",
            "+-----------------------------------------------------------------------------+\n",
            "| Processes:                                                                  |\n",
            "|  GPU   GI   CI        PID   Type   Process name                  GPU Memory |\n",
            "|        ID   ID                                                   Usage      |\n",
            "|=============================================================================|\n",
            "|  No running processes found                                                 |\n",
            "+-----------------------------------------------------------------------------+\n"
          ],
          "name": "stdout"
        }
      ]
    },
    {
      "cell_type": "code",
      "metadata": {
        "id": "BSEx8_c8-fCn"
      },
      "source": [
        "from transformers import GPT2Tokenizer, AutoModelWithLMHead, set_seed, Trainer, TrainingArguments, TextDataset, DataCollatorForLanguageModeling, EarlyStoppingCallback\n",
        "import tensorflow as tf\n",
        "import pandas as pd\n",
        "from sklearn.model_selection import train_test_split\n",
        "set_seed(301)"
      ],
      "execution_count": 34,
      "outputs": []
    },
    {
      "cell_type": "code",
      "metadata": {
        "id": "Obdf1LONtCEa"
      },
      "source": [
        "def build_text_file(sentences, filename):\n",
        "  with open(filename, 'w') as handle:\n",
        "    handle.write(\"<|endoftext|>\".join(sentences))\n",
        "  "
      ],
      "execution_count": 5,
      "outputs": []
    },
    {
      "cell_type": "code",
      "metadata": {
        "id": "U3oZQ2em_aCI"
      },
      "source": [
        "df = pd.read_csv('tripadvisor_hotel_reviews.csv', sep =',')\n",
        "sentences = df['Review'].values"
      ],
      "execution_count": 6,
      "outputs": []
    },
    {
      "cell_type": "code",
      "metadata": {
        "id": "5tiAkLcCj9ya"
      },
      "source": [
        "train_sents, val_sents = train_test_split(sentences, test_size = 0.2, random_state = 301)"
      ],
      "execution_count": 7,
      "outputs": []
    },
    {
      "cell_type": "code",
      "metadata": {
        "id": "e6YKy1Cmuvxf"
      },
      "source": [
        "build_text_file(train_sents, filename = 'train.txt')\n",
        "build_text_file(val_sents, filename = 'val.txt')"
      ],
      "execution_count": 8,
      "outputs": []
    },
    {
      "cell_type": "code",
      "metadata": {
        "id": "IW2sbx1B_EBY"
      },
      "source": [
        "tokenizer = GPT2Tokenizer.from_pretrained('distilgpt2')"
      ],
      "execution_count": 9,
      "outputs": []
    },
    {
      "cell_type": "code",
      "metadata": {
        "id": "X46qCae1vS9Q"
      },
      "source": [
        "def load_dataset(train_path, test_path, tokenizer):\n",
        "  train_dataset = TextDataset(tokenizer = tokenizer, file_path= train_path, block_size = 128)\n",
        "  test_dataset = TextDataset(tokenizer = tokenizer, file_path= test_path, block_size = 128)\n",
        "  collator = DataCollatorForLanguageModeling(tokenizer = tokenizer, mlm=False)\n",
        "\n",
        "  return train_dataset, test_dataset, collator"
      ],
      "execution_count": 10,
      "outputs": []
    },
    {
      "cell_type": "code",
      "metadata": {
        "colab": {
          "base_uri": "https://localhost:8080/"
        },
        "id": "9T4W5sAAvuNu",
        "outputId": "5942e738-91ef-479c-b16b-1acae4381c79"
      },
      "source": [
        "train_dataset, test_dataset, collator = load_dataset(train_path= 'train.txt', test_path='val.txt', tokenizer= tokenizer)"
      ],
      "execution_count": 11,
      "outputs": [
        {
          "output_type": "stream",
          "text": [
            "/usr/local/lib/python3.7/dist-packages/transformers/data/datasets/language_modeling.py:58: FutureWarning: This dataset will be removed from the library soon, preprocessing should be handled with the 🤗 Datasets library. You can have a look at this example script for pointers: https://github.com/huggingface/transformers/blob/master/examples/language-modeling/run_mlm.py\n",
            "  FutureWarning,\n"
          ],
          "name": "stderr"
        }
      ]
    },
    {
      "cell_type": "markdown",
      "metadata": {
        "id": "rzwUkjmqaH57"
      },
      "source": [
        "\n",
        "\n",
        "---\n",
        "\n",
        "\n",
        "# TRAINING STEP"
      ]
    },
    {
      "cell_type": "code",
      "metadata": {
        "id": "7KM3hj4hHoho"
      },
      "source": [
        "training_args = TrainingArguments(output_dir = '/content/drive/MyDrive/GPT2Out/gpt2hotelreviews',num_train_epochs = 50, \n",
        "                                  per_device_train_batch_size = 32, per_device_eval_batch_size = 64, \n",
        "                                  overwrite_output_dir = True,\n",
        "                                  warmup_steps = 500, evaluation_strategy = 'epoch',\n",
        "                                  save_steps=-1, load_best_model_at_end=True)"
      ],
      "execution_count": 42,
      "outputs": []
    },
    {
      "cell_type": "code",
      "metadata": {
        "id": "KEgS4AGVJP6p"
      },
      "source": [
        "%%capture\n",
        "model = AutoModelWithLMHead.from_pretrained('distilgpt2')"
      ],
      "execution_count": 43,
      "outputs": []
    },
    {
      "cell_type": "code",
      "metadata": {
        "id": "kfgn2LBS3HFp"
      },
      "source": [
        "early_stop = EarlyStoppingCallback()"
      ],
      "execution_count": 44,
      "outputs": []
    },
    {
      "cell_type": "code",
      "metadata": {
        "id": "3NxYSJOnKCpU"
      },
      "source": [
        "trainer = Trainer(train_dataset = train_dataset, eval_dataset= test_dataset, data_collator = collator ,model = model, args= training_args, callbacks=[early_stop])"
      ],
      "execution_count": 45,
      "outputs": []
    },
    {
      "cell_type": "code",
      "metadata": {
        "colab": {
          "base_uri": "https://localhost:8080/",
          "height": 677
        },
        "id": "Aqf034rMKQ9Q",
        "outputId": "266ba39e-3bcb-4315-fab2-8c7da8e02401"
      },
      "source": [
        "trainer.train()"
      ],
      "execution_count": 47,
      "outputs": [
        {
          "output_type": "display_data",
          "data": {
            "text/html": [
              "\n",
              "    <div>\n",
              "        <style>\n",
              "            /* Turns off some styling */\n",
              "            progress {\n",
              "                /* gets rid of default border in Firefox and Opera. */\n",
              "                border: none;\n",
              "                /* Needs to be in here for Safari polyfill so background images work as expected. */\n",
              "                background-size: auto;\n",
              "            }\n",
              "        </style>\n",
              "      \n",
              "      <progress value='648' max='1800' style='width:300px; height:20px; vertical-align: middle;'></progress>\n",
              "      [ 648/1800 10:25 < 18:35, 1.03 it/s, Epoch 18/50]\n",
              "    </div>\n",
              "    <table border=\"1\" class=\"dataframe\">\n",
              "  <thead>\n",
              "    <tr style=\"text-align: left;\">\n",
              "      <th>Epoch</th>\n",
              "      <th>Training Loss</th>\n",
              "      <th>Validation Loss</th>\n",
              "      <th>Runtime</th>\n",
              "      <th>Samples Per Second</th>\n",
              "    </tr>\n",
              "  </thead>\n",
              "  <tbody>\n",
              "    <tr>\n",
              "      <td>1</td>\n",
              "      <td>No log</td>\n",
              "      <td>6.961914</td>\n",
              "      <td>2.074100</td>\n",
              "      <td>116.195000</td>\n",
              "    </tr>\n",
              "    <tr>\n",
              "      <td>2</td>\n",
              "      <td>No log</td>\n",
              "      <td>6.405564</td>\n",
              "      <td>2.006700</td>\n",
              "      <td>120.100000</td>\n",
              "    </tr>\n",
              "    <tr>\n",
              "      <td>3</td>\n",
              "      <td>No log</td>\n",
              "      <td>6.035982</td>\n",
              "      <td>2.096300</td>\n",
              "      <td>114.966000</td>\n",
              "    </tr>\n",
              "    <tr>\n",
              "      <td>4</td>\n",
              "      <td>No log</td>\n",
              "      <td>5.785758</td>\n",
              "      <td>2.031200</td>\n",
              "      <td>118.650000</td>\n",
              "    </tr>\n",
              "    <tr>\n",
              "      <td>5</td>\n",
              "      <td>No log</td>\n",
              "      <td>5.629687</td>\n",
              "      <td>2.072500</td>\n",
              "      <td>116.285000</td>\n",
              "    </tr>\n",
              "    <tr>\n",
              "      <td>6</td>\n",
              "      <td>No log</td>\n",
              "      <td>5.535892</td>\n",
              "      <td>2.041200</td>\n",
              "      <td>118.070000</td>\n",
              "    </tr>\n",
              "    <tr>\n",
              "      <td>7</td>\n",
              "      <td>No log</td>\n",
              "      <td>5.469010</td>\n",
              "      <td>2.070300</td>\n",
              "      <td>116.408000</td>\n",
              "    </tr>\n",
              "    <tr>\n",
              "      <td>8</td>\n",
              "      <td>No log</td>\n",
              "      <td>5.414587</td>\n",
              "      <td>2.054200</td>\n",
              "      <td>117.323000</td>\n",
              "    </tr>\n",
              "    <tr>\n",
              "      <td>9</td>\n",
              "      <td>No log</td>\n",
              "      <td>5.375424</td>\n",
              "      <td>2.055100</td>\n",
              "      <td>117.269000</td>\n",
              "    </tr>\n",
              "    <tr>\n",
              "      <td>10</td>\n",
              "      <td>No log</td>\n",
              "      <td>5.332632</td>\n",
              "      <td>2.047000</td>\n",
              "      <td>117.732000</td>\n",
              "    </tr>\n",
              "    <tr>\n",
              "      <td>11</td>\n",
              "      <td>No log</td>\n",
              "      <td>5.308418</td>\n",
              "      <td>2.053600</td>\n",
              "      <td>117.356000</td>\n",
              "    </tr>\n",
              "    <tr>\n",
              "      <td>12</td>\n",
              "      <td>No log</td>\n",
              "      <td>5.281354</td>\n",
              "      <td>2.061700</td>\n",
              "      <td>116.894000</td>\n",
              "    </tr>\n",
              "    <tr>\n",
              "      <td>13</td>\n",
              "      <td>No log</td>\n",
              "      <td>5.256496</td>\n",
              "      <td>2.048200</td>\n",
              "      <td>117.666000</td>\n",
              "    </tr>\n",
              "    <tr>\n",
              "      <td>14</td>\n",
              "      <td>5.720900</td>\n",
              "      <td>5.237255</td>\n",
              "      <td>2.060200</td>\n",
              "      <td>116.980000</td>\n",
              "    </tr>\n",
              "    <tr>\n",
              "      <td>15</td>\n",
              "      <td>5.720900</td>\n",
              "      <td>5.226383</td>\n",
              "      <td>2.055200</td>\n",
              "      <td>117.262000</td>\n",
              "    </tr>\n",
              "    <tr>\n",
              "      <td>16</td>\n",
              "      <td>5.720900</td>\n",
              "      <td>5.209458</td>\n",
              "      <td>2.044900</td>\n",
              "      <td>117.853000</td>\n",
              "    </tr>\n",
              "    <tr>\n",
              "      <td>17</td>\n",
              "      <td>5.720900</td>\n",
              "      <td>5.207184</td>\n",
              "      <td>2.032000</td>\n",
              "      <td>118.601000</td>\n",
              "    </tr>\n",
              "    <tr>\n",
              "      <td>18</td>\n",
              "      <td>5.720900</td>\n",
              "      <td>5.207462</td>\n",
              "      <td>2.059000</td>\n",
              "      <td>117.046000</td>\n",
              "    </tr>\n",
              "  </tbody>\n",
              "</table><p>"
            ],
            "text/plain": [
              "<IPython.core.display.HTML object>"
            ]
          },
          "metadata": {
            "tags": []
          }
        },
        {
          "output_type": "execute_result",
          "data": {
            "text/plain": [
              "TrainOutput(global_step=648, training_loss=5.534030113691165, metrics={'train_runtime': 626.0814, 'train_samples_per_second': 2.875, 'total_flos': 1303345727668224.0, 'epoch': 18.0, 'init_mem_cpu_alloc_delta': 1865351, 'init_mem_gpu_alloc_delta': 334731264, 'init_mem_cpu_peaked_delta': 514229, 'init_mem_gpu_peaked_delta': 0, 'train_mem_cpu_alloc_delta': 518667, 'train_mem_gpu_alloc_delta': 1328507392, 'train_mem_cpu_peaked_delta': 154613225, 'train_mem_gpu_peaked_delta': 5607165952})"
            ]
          },
          "metadata": {
            "tags": []
          },
          "execution_count": 47
        }
      ]
    },
    {
      "cell_type": "code",
      "metadata": {
        "id": "oZTOVPajyvGi"
      },
      "source": [
        "trainer.save_model()"
      ],
      "execution_count": 51,
      "outputs": []
    },
    {
      "cell_type": "markdown",
      "metadata": {
        "id": "yad7F0aeKUIH"
      },
      "source": [
        "\n",
        "\n",
        "---\n",
        "\n",
        "\n",
        "# GENERATING "
      ]
    },
    {
      "cell_type": "code",
      "metadata": {
        "id": "-t-TQFbNaQZn"
      },
      "source": [
        "from transformers import pipeline\n",
        "\n",
        "reviewer = pipeline('text-generation', model = '/content/drive/MyDrive/GPT2Out/gpt2hotelreviews/', tokenizer = 'distilgpt2', config={'max_length':800})"
      ],
      "execution_count": 52,
      "outputs": []
    },
    {
      "cell_type": "code",
      "metadata": {
        "colab": {
          "base_uri": "https://localhost:8080/"
        },
        "id": "YO8oh7eByPN6",
        "outputId": "f6e4307d-61f2-4e78-b163-d36c14fe9b30"
      },
      "source": [
        "reviewer('really enjoyed')"
      ],
      "execution_count": 53,
      "outputs": [
        {
          "output_type": "stream",
          "text": [
            "Setting `pad_token_id` to `eos_token_id`:50256 for open-end generation.\n"
          ],
          "name": "stderr"
        },
        {
          "output_type": "execute_result",
          "data": {
            "text/plain": [
              "[{'generated_text': 'really enjoyed 5-10 night stay casablanca nice hotel, wonderful staff, highly recommended.thank you casablanca perfect.we highly recommend staying,  '}]"
            ]
          },
          "metadata": {
            "tags": []
          },
          "execution_count": 53
        }
      ]
    },
    {
      "cell_type": "code",
      "metadata": {
        "id": "kfNcZfTqy8Du"
      },
      "source": [
        ""
      ],
      "execution_count": 18,
      "outputs": []
    }
  ]
}