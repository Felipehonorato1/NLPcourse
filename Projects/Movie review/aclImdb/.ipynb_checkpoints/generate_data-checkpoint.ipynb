{
 "cells": [
  {
   "cell_type": "code",
   "execution_count": 1,
   "metadata": {},
   "outputs": [],
   "source": [
    "import numpy as np\n",
    "import gensim\n",
    "import os\n",
    "import time"
   ]
  },
  {
   "cell_type": "code",
   "execution_count": 8,
   "metadata": {},
   "outputs": [],
   "source": [
    "def generate_data(subset):\n",
    "    start_time = time.time()\n",
    "    # Making sure subset is either train or test\n",
    "    assert subset == 'train' or subset == 'test'\n",
    "    \n",
    "    # These arrays are going to store our \n",
    "    pos_reviews = []\n",
    "    neg_reviews = []\n",
    "    \n",
    "    pos_path = subset+'/pos'\n",
    "    neg_path = subset+'/neg'\n",
    "    \n",
    "    \n",
    "    # Generating both positive and negative arrays with its respective labels\n",
    "    for folder in os.listdir(subset):\n",
    "        \n",
    "        if folder == 'pos':\n",
    "            for file in os.listdir(pos_path):\n",
    "                file_path = pos_path+'/'+file\n",
    "                f = open(file_path,'r')\n",
    "                    \n",
    "                # Verifying if it could read the file properly\n",
    "                if(f):\n",
    "                    pos_reviews.append(f.read())\n",
    "                    f.close()\n",
    "                    \n",
    "            pos_label_array = np.ones((len(pos_reviews)))\n",
    "        \n",
    "        else:\n",
    "            for file in os.listdir(neg_path):\n",
    "                file_path = neg_path+'/'+file\n",
    "                f = open(file_path,'r')\n",
    "                \n",
    "                # Verifying if it could read the file properly\n",
    "                if(f):\n",
    "                    neg_reviews.append(f.read())\n",
    "                    f.close()\n",
    "                    \n",
    "            neg_label_array = np.zeros((len(neg_reviews)))\n",
    "    \n",
    "    # Joining arrays\n",
    "    joint_reviews = np.concatenate((pos_reviews,neg_reviews))\n",
    "    joint_labels = np.concatenate((pos_label_array,neg_label_array))\n",
    "    \n",
    "    # Making sure both have the same lenght\n",
    "    assert len(joint_reviews) == len(joint_labels)\n",
    "    print(f'Time took: {time.time() - start_time}s')\n",
    "    return joint_reviews, joint_labels"
   ]
  },
  {
   "cell_type": "code",
   "execution_count": 10,
   "metadata": {},
   "outputs": [
    {
     "name": "stdout",
     "output_type": "stream",
     "text": [
      "Time took: 44.829100131988525s\n"
     ]
    }
   ],
   "source": [
    "X,Y = generate_data('train')"
   ]
  },
  {
   "cell_type": "code",
   "execution_count": 14,
   "metadata": {
    "scrolled": true
   },
   "outputs": [
    {
     "data": {
      "text/plain": [
       "20313"
      ]
     },
     "execution_count": 14,
     "metadata": {},
     "output_type": "execute_result"
    }
   ],
   "source": [
    "len(X)"
   ]
  },
  {
   "cell_type": "code",
   "execution_count": 15,
   "metadata": {},
   "outputs": [
    {
     "data": {
      "text/plain": [
       "20313"
      ]
     },
     "execution_count": 15,
     "metadata": {},
     "output_type": "execute_result"
    }
   ],
   "source": [
    "len(Y)"
   ]
  },
  {
   "cell_type": "code",
   "execution_count": null,
   "metadata": {},
   "outputs": [],
   "source": [
    "def preprocessing_data(reviews_array):\n",
    "    "
   ]
  }
 ],
 "metadata": {
  "kernelspec": {
   "display_name": "Python 3",
   "language": "python",
   "name": "python3"
  },
  "language_info": {
   "codemirror_mode": {
    "name": "ipython",
    "version": 3
   },
   "file_extension": ".py",
   "mimetype": "text/x-python",
   "name": "python",
   "nbconvert_exporter": "python",
   "pygments_lexer": "ipython3",
   "version": "3.7.4"
  }
 },
 "nbformat": 4,
 "nbformat_minor": 2
}
