{
 "cells": [
  {
   "cell_type": "code",
   "execution_count": 17,
   "metadata": {},
   "outputs": [],
   "source": [
    "import numpy as np\n",
    "import gensim\n",
    "import os\n",
    "import time\n",
    "from nltk.tokenize import word_tokenize\n",
    "from nltk.corpus import stopwords\n",
    "import string\n",
    "import re"
   ]
  },
  {
   "cell_type": "code",
   "execution_count": 18,
   "metadata": {},
   "outputs": [
    {
     "data": {
      "text/plain": [
       "'!\"#$%&\\'()*+,-./:;<=>?@[\\\\]^_`{|}~'"
      ]
     },
     "execution_count": 18,
     "metadata": {},
     "output_type": "execute_result"
    }
   ],
   "source": [
    "string.punctuation"
   ]
  },
  {
   "cell_type": "code",
   "execution_count": 8,
   "metadata": {},
   "outputs": [],
   "source": [
    "def generate_data(subset):\n",
    "    start_time = time.time()\n",
    "    # Making sure subset is either train or test\n",
    "    assert subset == 'train' or subset == 'test'\n",
    "    \n",
    "    # These arrays are going to store our \n",
    "    pos_reviews = []\n",
    "    neg_reviews = []\n",
    "    \n",
    "    pos_path = subset+'/pos'\n",
    "    neg_path = subset+'/neg'\n",
    "    \n",
    "    \n",
    "    # Generating both positive and negative arrays with its respective labels\n",
    "    for folder in os.listdir(subset):\n",
    "        \n",
    "        if folder == 'pos':\n",
    "            for file in os.listdir(pos_path):\n",
    "                file_path = pos_path+'/'+file\n",
    "                f = open(file_path,'r')\n",
    "                    \n",
    "                # Verifying if it could read the file properly\n",
    "                if(f):\n",
    "                    pos_reviews.append(f.read())\n",
    "                    f.close()\n",
    "                    \n",
    "            pos_label_array = np.ones((len(pos_reviews)))\n",
    "        \n",
    "        else:\n",
    "            for file in os.listdir(neg_path):\n",
    "                file_path = neg_path+'/'+file\n",
    "                f = open(file_path,'r')\n",
    "                \n",
    "                # Verifying if it could read the file properly\n",
    "                if(f):\n",
    "                    neg_reviews.append(f.read())\n",
    "                    f.close()\n",
    "                    \n",
    "            neg_label_array = np.zeros((len(neg_reviews)))\n",
    "    \n",
    "    # Joining arrays\n",
    "    joint_reviews = np.concatenate((pos_reviews,neg_reviews))\n",
    "    joint_labels = np.concatenate((pos_label_array,neg_label_array))\n",
    "    \n",
    "    # Making sure both have the same lenght\n",
    "    assert len(joint_reviews) == len(joint_labels)\n",
    "    print(f'Time took: {time.time() - start_time}s')\n",
    "    return joint_reviews, joint_labels"
   ]
  },
  {
   "cell_type": "code",
   "execution_count": 10,
   "metadata": {},
   "outputs": [
    {
     "name": "stdout",
     "output_type": "stream",
     "text": [
      "Time took: 44.829100131988525s\n"
     ]
    }
   ],
   "source": [
    "X,Y = generate_data('train')"
   ]
  },
  {
   "cell_type": "code",
   "execution_count": 16,
   "metadata": {
    "scrolled": true
   },
   "outputs": [
    {
     "data": {
      "text/plain": [
       "(20313, 20313)"
      ]
     },
     "execution_count": 16,
     "metadata": {},
     "output_type": "execute_result"
    }
   ],
   "source": [
    "len(X),len(Y)"
   ]
  },
  {
   "cell_type": "code",
   "execution_count": 21,
   "metadata": {},
   "outputs": [],
   "source": [
    "def preprocessing_data(reviews_array):\n",
    "    treated_array = []\n",
    "    sw = stopwords.words('english')\n",
    "    \n",
    "    for review in reviews_array:\n",
    "        #Removing extra whitespaces, lowering all cases in string and removing punctuation and stopwords\n",
    "        review = review.strip().lower()\n",
    "        review_no_punct = re.sub('[^\\w\\s]','',review)\n",
    "        review_tokens = word_tokenize(review)\n",
    "        joint_wout_sw_and_punct = [word for word in review_tokes if word not in sw]\n",
    "        treated_array.append(\" \".join(joint_wout_sw_and_punct))\n",
    "    \n",
    "    assert len(reviews_array) == len(treated_array)\n",
    "    return treated_array"
   ]
  },
  {
   "cell_type": "code",
   "execution_count": 22,
   "metadata": {},
   "outputs": [
    {
     "ename": "NameError",
     "evalue": "name 're' is not defined",
     "output_type": "error",
     "traceback": [
      "\u001b[0;31m---------------------------------------------------------------------------\u001b[0m",
      "\u001b[0;31mNameError\u001b[0m                                 Traceback (most recent call last)",
      "\u001b[0;32m<ipython-input-22-eca6e4cf8a7e>\u001b[0m in \u001b[0;36m<module>\u001b[0;34m\u001b[0m\n\u001b[0;32m----> 1\u001b[0;31m \u001b[0mX_treated\u001b[0m \u001b[0;34m=\u001b[0m \u001b[0mpreprocessing_data\u001b[0m\u001b[0;34m(\u001b[0m\u001b[0mX\u001b[0m\u001b[0;34m)\u001b[0m\u001b[0;34m\u001b[0m\u001b[0;34m\u001b[0m\u001b[0m\n\u001b[0m",
      "\u001b[0;32m<ipython-input-21-010e6d0e55b5>\u001b[0m in \u001b[0;36mpreprocessing_data\u001b[0;34m(reviews_array)\u001b[0m\n\u001b[1;32m      6\u001b[0m         \u001b[0;31m#Removing extra whitespaces, lowering all cases in string and removing punctuation and stopwords\u001b[0m\u001b[0;34m\u001b[0m\u001b[0;34m\u001b[0m\u001b[0;34m\u001b[0m\u001b[0m\n\u001b[1;32m      7\u001b[0m         \u001b[0mreview\u001b[0m \u001b[0;34m=\u001b[0m \u001b[0mreview\u001b[0m\u001b[0;34m.\u001b[0m\u001b[0mstrip\u001b[0m\u001b[0;34m(\u001b[0m\u001b[0;34m)\u001b[0m\u001b[0;34m.\u001b[0m\u001b[0mlower\u001b[0m\u001b[0;34m(\u001b[0m\u001b[0;34m)\u001b[0m\u001b[0;34m\u001b[0m\u001b[0;34m\u001b[0m\u001b[0m\n\u001b[0;32m----> 8\u001b[0;31m         \u001b[0mreview_no_punct\u001b[0m \u001b[0;34m=\u001b[0m \u001b[0mre\u001b[0m\u001b[0;34m.\u001b[0m\u001b[0msub\u001b[0m\u001b[0;34m(\u001b[0m\u001b[0;34m'[^\\w\\s]'\u001b[0m\u001b[0;34m,\u001b[0m\u001b[0;34m''\u001b[0m\u001b[0;34m,\u001b[0m\u001b[0mreview\u001b[0m\u001b[0;34m)\u001b[0m\u001b[0;34m\u001b[0m\u001b[0;34m\u001b[0m\u001b[0m\n\u001b[0m\u001b[1;32m      9\u001b[0m         \u001b[0mreview_tokens\u001b[0m \u001b[0;34m=\u001b[0m \u001b[0mword_tokenize\u001b[0m\u001b[0;34m(\u001b[0m\u001b[0mreview\u001b[0m\u001b[0;34m)\u001b[0m\u001b[0;34m\u001b[0m\u001b[0;34m\u001b[0m\u001b[0m\n\u001b[1;32m     10\u001b[0m         \u001b[0mjoint_wout_sw_and_punct\u001b[0m \u001b[0;34m=\u001b[0m \u001b[0;34m[\u001b[0m\u001b[0mword\u001b[0m \u001b[0;32mfor\u001b[0m \u001b[0mword\u001b[0m \u001b[0;32min\u001b[0m \u001b[0mreview_tokes\u001b[0m \u001b[0;32mif\u001b[0m \u001b[0mword\u001b[0m \u001b[0;32mnot\u001b[0m \u001b[0;32min\u001b[0m \u001b[0msw\u001b[0m\u001b[0;34m]\u001b[0m\u001b[0;34m\u001b[0m\u001b[0;34m\u001b[0m\u001b[0m\n",
      "\u001b[0;31mNameError\u001b[0m: name 're' is not defined"
     ]
    }
   ],
   "source": [
    "X_treated = preprocessing_data(X)"
   ]
  },
  {
   "cell_type": "code",
   "execution_count": null,
   "metadata": {},
   "outputs": [],
   "source": []
  }
 ],
 "metadata": {
  "kernelspec": {
   "display_name": "Python 3",
   "language": "python",
   "name": "python3"
  },
  "language_info": {
   "codemirror_mode": {
    "name": "ipython",
    "version": 3
   },
   "file_extension": ".py",
   "mimetype": "text/x-python",
   "name": "python",
   "nbconvert_exporter": "python",
   "pygments_lexer": "ipython3",
   "version": "3.7.4"
  }
 },
 "nbformat": 4,
 "nbformat_minor": 2
}
