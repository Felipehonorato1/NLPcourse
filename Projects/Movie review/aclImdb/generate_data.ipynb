{
 "cells": [
  {
   "cell_type": "code",
   "execution_count": 11,
   "metadata": {},
   "outputs": [],
   "source": [
    "import numpy as np\n",
    "import gensim\n",
    "import os\n",
    "import time\n",
    "from nltk.tokenize import word_tokenize\n",
    "from nltk.corpus import stopwords\n",
    "import string\n",
    "import re\n",
    "from bs4 import BeautifulSoup"
   ]
  },
  {
   "cell_type": "code",
   "execution_count": 12,
   "metadata": {},
   "outputs": [],
   "source": [
    "def generate_data(subset):\n",
    "    start_time = time.time()\n",
    "    # Making sure subset is either train or test\n",
    "    assert subset == 'train' or subset == 'test'\n",
    "    \n",
    "    # These arrays are going to store our \n",
    "    pos_reviews = []\n",
    "    neg_reviews = []\n",
    "    \n",
    "    pos_path = subset+'/pos'\n",
    "    neg_path = subset+'/neg'\n",
    "    \n",
    "    \n",
    "    # Generating both positive and negative arrays with its respective labels\n",
    "    for folder in os.listdir(subset):\n",
    "        \n",
    "        if folder == 'pos':\n",
    "            for file in os.listdir(pos_path):\n",
    "                file_path = pos_path+'/'+file\n",
    "                f = open(file_path,'r')\n",
    "                    \n",
    "                # Verifying if it could read the file properly\n",
    "                if(f):\n",
    "                    pos_reviews.append(f.read())\n",
    "                    f.close()\n",
    "                    \n",
    "            pos_label_array = np.ones((len(pos_reviews)))\n",
    "        \n",
    "        else:\n",
    "            for file in os.listdir(neg_path):\n",
    "                file_path = neg_path+'/'+file\n",
    "                f = open(file_path,'r')\n",
    "                \n",
    "                # Verifying if it could read the file properly\n",
    "                if(f):\n",
    "                    neg_reviews.append(f.read())\n",
    "                    f.close()\n",
    "                    \n",
    "            neg_label_array = np.zeros((len(neg_reviews)))\n",
    "    \n",
    "    # Joining arrays\n",
    "    joint_reviews = np.concatenate((pos_reviews,neg_reviews))\n",
    "    joint_labels = np.concatenate((pos_label_array,neg_label_array))\n",
    "    \n",
    "    # Making sure both have the same lenght\n",
    "    assert len(joint_reviews) == len(joint_labels)\n",
    "    print(f'Time took: {time.time() - start_time}s')\n",
    "    return joint_reviews, joint_labels"
   ]
  },
  {
   "cell_type": "code",
   "execution_count": 13,
   "metadata": {},
   "outputs": [
    {
     "name": "stdout",
     "output_type": "stream",
     "text": [
      "Time took: 4.416279315948486s\n"
     ]
    }
   ],
   "source": [
    "X,Y = generate_data('train')"
   ]
  },
  {
   "cell_type": "code",
   "execution_count": 14,
   "metadata": {
    "scrolled": true
   },
   "outputs": [
    {
     "data": {
      "text/plain": [
       "(20313, 20313)"
      ]
     },
     "execution_count": 14,
     "metadata": {},
     "output_type": "execute_result"
    }
   ],
   "source": [
    "len(X),len(Y)"
   ]
  },
  {
   "cell_type": "code",
   "execution_count": 41,
   "metadata": {},
   "outputs": [],
   "source": [
    "def preprocessing_data(reviews_array,remove_sw= None):\n",
    "    treated_array = []\n",
    "    sw = stopwords.words('english')\n",
    "    \n",
    "    for review in reviews_array:\n",
    "        \n",
    "        #Removing extra whitespaces, lowering all cases in string and removing punctuation and stopwords\n",
    "        review = review.lower()\n",
    "        review = BeautifulSoup(review).get_text()\n",
    "        review_no_punct = re.sub(r\"[^\\w\\s]\",'',review)\n",
    "        review_tokens = word_tokenize(review_no_punct)\n",
    "        \n",
    "        if remove_sw:\n",
    "            final_review = [word for word in review_tokens if word not in sw]\n",
    "        else:\n",
    "            final_review = review_tokens\n",
    "            \n",
    "        treated_array.append(\" \".join(final_review).strip())\n",
    "    \n",
    "    assert len(reviews_array) == len(treated_array)\n",
    "    return treated_array"
   ]
  },
  {
   "cell_type": "code",
   "execution_count": 46,
   "metadata": {},
   "outputs": [],
   "source": [
    "X_treated_w_sw = preprocessing_data(X[:50])\n",
    "X_treated_wout_sw = preprocessing_data(X[:50], remove_sw = True)"
   ]
  },
  {
   "cell_type": "code",
   "execution_count": 47,
   "metadata": {},
   "outputs": [
    {
     "data": {
      "text/plain": [
       "'clint eastwood has definitely produced better movies than this but this one does not embarrass him dirty harry catches everyones attention and unless one wants to watch romance there is no reason why you wont like him he is cool because he is dirty is great because he kills without much thinking is perfect because he gets the bullet right through your heart and a hero because he doesnt carefrom what i have seen in movies in which eastwood acts the character of the lead role always captivates the audience in white hunter black heart he is the crazy director in in the line of fire he is the old un while here is the almost jobless with his job that is to say he makes work for himself doesnt care one damn about his superiors who practically send him out for a vacationbased on a rape victim this movie is promising for all the no nonsense movie watchers the movie has nothing that goes away from he central plot however what makes it slightly inferior to the better movies of eastwood is that though the character of the lead role is captivating the plot is not as it is far too obvious from the beginning it is not a movie that is going to make you sit at a place without moving also there are too many people far dirtier than dirty harry'"
      ]
     },
     "execution_count": 47,
     "metadata": {},
     "output_type": "execute_result"
    }
   ],
   "source": [
    "X_treated[0]"
   ]
  },
  {
   "cell_type": "code",
   "execution_count": 49,
   "metadata": {},
   "outputs": [
    {
     "data": {
      "text/plain": [
       "'clint eastwood definitely produced better movies one embarrass dirty harry catches everyones attention unless one wants watch romance reason wont like cool dirty great kills without much thinking perfect gets bullet right heart hero doesnt carefrom seen movies eastwood acts character lead role always captivates audience white hunter black heart crazy director line fire old un almost jobless job say makes work doesnt care one damn superiors practically send vacationbased rape victim movie promising nonsense movie watchers movie nothing goes away central plot however makes slightly inferior better movies eastwood though character lead role captivating plot far obvious beginning movie going make sit place without moving also many people far dirtier dirty harry'"
      ]
     },
     "execution_count": 49,
     "metadata": {},
     "output_type": "execute_result"
    }
   ],
   "source": [
    "X_treated_wout_sw[0]"
   ]
  },
  {
   "cell_type": "code",
   "execution_count": 48,
   "metadata": {},
   "outputs": [
    {
     "data": {
      "text/plain": [
       "'Clint Eastwood has definitely produced better movies than this, but this one does not embarrass him. Dirty Harry catches everyone\\'s attention and unless one wants to watch romance, there is no reason why you won\\'t like him. He is cool because he is dirty, is great because he kills without much thinking, is perfect because he gets the bullet right through your heart and a hero because he doesn\\'t care.<br /><br />From what I have seen in movies in which Eastwood acts, the character of the lead role always captivates the audience. In White Hunter Black heart, he is the crazy director, in \"in the Line of Fire\" he is the \"Old \\'un\" while here is the \"almost\" jobless with his job, that is to say he makes work for himself, doesn\\'t care one damn about his superiors who practically send him out for a vacation.<br /><br />Based on a rape victim, this movie is promising for all the \"no non-sense\" movie watchers. The movie has nothing that goes away from he central plot. However, what makes it slightly inferior to the better movies of Eastwood is that though the character of the lead role is captivating the plot is not, as it is far too obvious from the beginning. It is not a movie that is going to make you sit at a place without moving. Also, there are too many people far dirtier than Dirty harry.'"
      ]
     },
     "execution_count": 48,
     "metadata": {},
     "output_type": "execute_result"
    }
   ],
   "source": [
    "X[0]"
   ]
  },
  {
   "cell_type": "code",
   "execution_count": null,
   "metadata": {},
   "outputs": [],
   "source": []
  }
 ],
 "metadata": {
  "kernelspec": {
   "display_name": "Python 3",
   "language": "python",
   "name": "python3"
  },
  "language_info": {
   "codemirror_mode": {
    "name": "ipython",
    "version": 3
   },
   "file_extension": ".py",
   "mimetype": "text/x-python",
   "name": "python",
   "nbconvert_exporter": "python",
   "pygments_lexer": "ipython3",
   "version": "3.7.4"
  }
 },
 "nbformat": 4,
 "nbformat_minor": 2
}
