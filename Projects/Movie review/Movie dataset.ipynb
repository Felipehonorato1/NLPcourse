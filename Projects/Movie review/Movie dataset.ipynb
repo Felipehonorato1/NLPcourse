{
 "cells": [
  {
   "cell_type": "code",
   "execution_count": 1,
   "metadata": {},
   "outputs": [],
   "source": [
    "import numpy \n",
    "import os \n",
    "import gensim\n",
    "from generate_data import data_generator\n",
    "import pathlib"
   ]
  },
  {
   "cell_type": "code",
   "execution_count": 2,
   "metadata": {},
   "outputs": [],
   "source": [
    "data_gen = data_generator()"
   ]
  },
  {
   "cell_type": "code",
   "execution_count": 3,
   "metadata": {
    "scrolled": true
   },
   "outputs": [
    {
     "name": "stdout",
     "output_type": "stream",
     "text": [
      "Time took: 7.8538196086883545s\n"
     ]
    }
   ],
   "source": [
    "raw_train, y_train = data_gen.generate_data('train')\n"
   ]
  },
  {
   "cell_type": "code",
   "execution_count": null,
   "metadata": {},
   "outputs": [],
   "source": [
    "raw_test, y_test = data_gen.generate_data('test')"
   ]
  },
  {
   "cell_type": "code",
   "execution_count": null,
   "metadata": {},
   "outputs": [],
   "source": [
    "x_train = data_gen.preprocessing_data(raw_train)"
   ]
  },
  {
   "cell_type": "code",
   "execution_count": null,
   "metadata": {
    "scrolled": true
   },
   "outputs": [],
   "source": [
    "\n",
    "x_test = data_gen.preprocessing_data(raw_test)"
   ]
  },
  {
   "cell_type": "code",
   "execution_count": 9,
   "metadata": {
    "scrolled": true
   },
   "outputs": [
    {
     "data": {
      "text/plain": [
       "'clint eastwood has definitely produced better movies than this but this one does not embarrass him dirty harry catches everyones attention and unless one wants to watch romance there is no reason why you wont like him he is cool because he is dirty is great because he kills without much thinking is perfect because he gets the bullet right through your heart and a hero because he doesnt carefrom what i have seen in movies in which eastwood acts the character of the lead role always captivates the audience in white hunter black heart he is the crazy director in in the line of fire he is the old un while here is the almost jobless with his job that is to say he makes work for himself doesnt care one damn about his superiors who practically send him out for a vacationbased on a rape victim this movie is promising for all the no nonsense movie watchers the movie has nothing that goes away from he central plot however what makes it slightly inferior to the better movies of eastwood is that though the character of the lead role is captivating the plot is not as it is far too obvious from the beginning it is not a movie that is going to make you sit at a place without moving also there are too many people far dirtier than dirty harry'"
      ]
     },
     "execution_count": 9,
     "metadata": {},
     "output_type": "execute_result"
    }
   ],
   "source": [
    "preprocessed_train[0]"
   ]
  }
 ],
 "metadata": {
  "kernelspec": {
   "display_name": "Python 3",
   "language": "python",
   "name": "python3"
  },
  "language_info": {
   "codemirror_mode": {
    "name": "ipython",
    "version": 3
   },
   "file_extension": ".py",
   "mimetype": "text/x-python",
   "name": "python",
   "nbconvert_exporter": "python",
   "pygments_lexer": "ipython3",
   "version": "3.7.4"
  }
 },
 "nbformat": 4,
 "nbformat_minor": 2
}
