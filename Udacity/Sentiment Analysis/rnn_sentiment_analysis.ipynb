{
 "cells": [
  {
   "cell_type": "markdown",
   "metadata": {},
   "source": [
    "# Sentiment Analysis Part 2\n",
    "\n",
    "_Natural Langauge Processing Nanodegree Program_\n",
    "\n",
    "---\n",
    "\n"
   ]
  },
  {
   "cell_type": "markdown",
   "metadata": {},
   "source": [
    "## Step 5: Switching gears - RNNs\n",
    "\n",
    "We just saw how the task of sentiment analysis can be solved via a traditional machine learning approach: BoW + a nonlinear classifier. We now switch gears and use Recurrent Neural Networks, and in particular LSTMs, to perform sentiment analysis in Keras. Conveniently, Keras has a built-in [IMDb movie reviews dataset](https://keras.io/datasets/#imdb-movie-reviews-sentiment-classification) that we can use, with the same vocabulary size."
   ]
  },
  {
   "cell_type": "code",
   "execution_count": 1,
   "metadata": {},
   "outputs": [
    {
     "name": "stderr",
     "output_type": "stream",
     "text": [
      "Using TensorFlow backend.\n"
     ]
    },
    {
     "name": "stdout",
     "output_type": "stream",
     "text": [
      "Downloading data from https://s3.amazonaws.com/text-datasets/imdb.npz\n",
      "17465344/17464789 [==============================] - 0s 0us/step\n",
      "Loaded dataset with 25000 training samples, 25000 test samples\n"
     ]
    }
   ],
   "source": [
    "from keras.datasets import imdb  # import the built-in imdb dataset in Keras\n",
    "\n",
    "# Set the vocabulary size\n",
    "vocabulary_size = 5000\n",
    "\n",
    "# Load in training and test data (note the difference in convention compared to scikit-learn)\n",
    "(X_train, y_train), (X_test, y_test) = imdb.load_data(num_words=vocabulary_size)\n",
    "print(\"Loaded dataset with {} training samples, {} test samples\".format(len(X_train), len(X_test)))"
   ]
  },
  {
   "cell_type": "code",
   "execution_count": 2,
   "metadata": {},
   "outputs": [
    {
     "name": "stdout",
     "output_type": "stream",
     "text": [
      "--- Review ---\n",
      "[1, 14, 2062, 20, 517, 125, 680, 5, 13, 104, 2062, 238, 30, 6, 2, 305, 7, 4, 644, 2, 2888, 1188, 14, 2062, 47, 684, 3531, 362, 39, 32, 638, 4, 2, 5, 166, 98, 1941, 6, 227, 40, 105, 39, 45, 6, 392, 182, 13, 482, 50, 26, 57, 506, 2, 4461, 23, 4, 916, 2, 1707, 23, 63, 29, 456, 45, 684, 24, 4, 2397, 2, 5, 24, 23, 703, 600, 7, 134, 362, 306, 55, 654, 5, 13, 828, 1786, 8, 67, 2, 989, 11, 5, 2232, 4, 2, 151, 13, 482, 18, 49, 7, 4, 840, 182, 362, 134, 780, 2, 71, 382, 35, 4893, 120, 719, 2, 13, 252, 440, 15, 32, 36, 81, 9, 1941, 5, 97, 4153, 10, 10, 95, 4, 136, 2, 1443, 8, 609, 121, 775, 5, 775, 7, 2624, 837, 44, 40, 36, 26, 11, 6, 2, 2, 621, 14, 253, 11, 276, 8, 6, 570, 34, 4168, 37, 4004, 31, 7, 98, 3063, 8, 140, 8, 703, 8, 2457, 982, 1276, 13, 197, 14, 20, 460, 122, 15, 4, 2113, 5, 27, 2, 26, 165, 243, 7, 1036, 40, 893, 538, 39, 4, 4355, 3442, 21, 19, 646, 445, 2, 42, 48, 25, 26, 2, 2, 40, 6, 2, 2377, 19, 6, 2, 10, 10, 820, 6, 3460, 2, 2662, 554, 773, 2, 6, 604, 7, 2, 362, 37, 181, 8, 2, 2062, 5, 49, 1026, 554, 26, 1317, 2, 18, 4, 2113, 5, 2062, 38, 48, 4, 1891, 7, 2601, 24, 2597, 2, 45, 4, 85, 1891, 7, 2601, 70, 820, 97, 41, 2114, 5, 30, 78, 3872, 2, 51, 75, 92, 66, 124, 11, 192, 17, 36, 3663, 41, 23, 25, 79, 4, 1384, 15, 4, 22, 1188, 2, 2062, 8, 30, 1954, 17, 29, 47, 32, 134, 87, 1722, 5, 1860, 4, 2113, 120, 2, 3741, 303, 2062, 892, 19, 27, 464, 2, 29, 1643, 90, 8, 97, 90, 6, 318, 2, 15, 166, 84, 925, 327, 1306, 1069, 89, 76, 2062, 919, 11, 4, 22, 40, 6, 4729, 2, 13, 2237, 29, 215, 361, 14, 1392, 6, 176, 29, 1241, 271, 8, 67, 6, 2, 37, 166, 90, 6, 1236, 1317, 15, 2013, 32, 3594, 1069, 29, 941, 362, 17, 27, 965, 2, 14, 1236, 1317, 155, 2, 72, 4233, 315, 2, 982, 3835, 1365, 25, 67, 2, 4486, 40, 6, 117, 2344, 31, 439, 180, 2062, 95, 304, 58, 46, 150, 8, 193, 459, 7, 4, 1026, 554, 625, 846, 26, 3961, 2, 29, 408, 98, 49, 432, 7, 932, 2, 63, 2, 2, 68, 712, 107, 712, 2, 14, 9, 6, 1281, 420, 121, 2, 1672, 339, 362, 5, 2, 712, 5, 17, 18, 4, 117, 2, 29, 408, 98, 2, 3571, 19, 27, 2, 8, 2062, 3063, 95, 497, 8, 2114, 4, 2, 63, 9, 1906, 34, 948, 2, 2, 54, 14, 996, 29, 2, 2, 2, 7, 2, 2, 17, 6, 959, 2062, 191, 413, 2504, 8, 798, 2515, 5, 214, 2, 2, 449, 89, 70, 2062, 193, 6, 2, 8, 4, 4926, 2108, 2, 48, 240, 1571, 56, 6, 2840, 80, 3369, 1851, 79, 180, 39, 4, 2840, 5, 79, 4, 3606, 125, 27, 145, 42, 80, 4, 2, 1176, 48, 25, 459, 3190, 11, 5, 67, 190, 30, 2815, 15, 4, 22, 9, 2916, 595, 932, 10, 10, 2536, 1386, 4, 22, 9, 2, 137, 12, 9, 11, 1399, 45, 66, 2, 4, 228, 9, 669, 224, 23, 35, 2, 63, 367, 19, 78, 1118, 39, 4, 362, 2, 382, 4, 249, 816, 207, 557, 11, 1136, 1757, 5, 4, 65, 9, 43, 4709, 5, 55, 55, 55, 948, 2, 5, 6, 2062, 15, 2, 362, 9, 43, 1044, 4836, 2, 45, 6, 22, 25, 144, 115, 123, 8, 362, 21, 166, 6, 87, 22, 8, 106, 19, 369, 38, 25, 70, 462, 33, 12, 39, 380, 8, 1363]\n",
      "--- Label ---\n",
      "0\n"
     ]
    }
   ],
   "source": [
    "# Inspect a sample review and its label\n",
    "print(\"--- Review ---\")\n",
    "print(X_train[7])\n",
    "print(\"--- Label ---\")\n",
    "print(y_train[7])"
   ]
  },
  {
   "cell_type": "code",
   "execution_count": 6,
   "metadata": {},
   "outputs": [],
   "source": [
    "lenghts = []\n",
    "for i in range(len(X_train)):\n",
    "    lenghts.append(len(X_train[i]))"
   ]
  },
  {
   "cell_type": "markdown",
   "metadata": {},
   "source": [
    "Notice that the label is an integer (0 for negative, 1 for positive), and the review itself is stored as a sequence of integers. These are word IDs that have been preassigned to individual words. To map them back to the original words, you can use the dictionary returned by `imdb.get_word_index()`."
   ]
  },
  {
   "cell_type": "code",
   "execution_count": 3,
   "metadata": {},
   "outputs": [
    {
     "name": "stdout",
     "output_type": "stream",
     "text": [
      "Downloading data from https://s3.amazonaws.com/text-datasets/imdb_word_index.json\n",
      "1646592/1641221 [==============================] - 0s 0us/step\n",
      "--- Review (with words) ---\n",
      "['the', 'as', 'keaton', 'on', 'gave', 'better', 'call', 'to', 'was', 'two', 'keaton', '2', 'at', 'is', 'and', 'john', 'br', 'of', 'ridiculous', 'and', 'sidney', 'accent', 'as', 'keaton', 'there', 'events', 'press', 'production', 'or', 'an', 'light', 'of', 'and', 'to', 'find', 'any', 'conflict', 'is', 'far', 'just', 'films', 'or', 'if', 'is', 'playing', 'young', 'was', 'lead', 'more', 'he', 'even', 'flick', 'and', 'shake', 'are', 'of', 'laughs', 'and', 'warning', 'are', 'really', 'all', 'care', 'if', 'events', 'his', 'of', 'handled', 'and', 'to', 'his', 'are', 'cheap', 'score', 'br', 'while', 'production', 'himself', 'time', 'wish', 'to', 'was', 'general', 'torture', 'in', 'can', 'and', 'gay', 'this', 'to', 'portrays', 'of', 'and', 'old', 'was', 'lead', 'but', 'good', 'br', 'of', 'particular', 'young', 'production', 'while', 'die', 'and', 'than', 'came', 'so', 'cliche', 'show', 'entertainment', 'and', 'was', 'woman', 'mr', 'for', 'an', 'from', 'people', 'it', 'conflict', 'to', 'could', 'danes', 'i', 'i', 'them', 'of', 'scenes', 'and', 'six', 'in', 'number', 'know', 'begins', 'to', 'begins', 'br', 'bothered', 'third', 'has', 'just', 'from', 'he', 'this', 'is', 'and', 'and', 'yourself', 'as', 'played', 'this', 'maybe', 'in', 'is', 'known', 'who', 'impress', 'like', 'cats', 'by', 'br', 'any', 'jay', 'in', 'through', 'in', 'cheap', 'in', 'universal', 'battle', 'sexy', 'was', 'between', 'as', 'on', 'example', 'off', 'for', 'of', 'passed', 'to', 'be', 'and', 'he', 'look', 'yet', 'br', 'copy', 'just', 'baby', 'blood', 'or', 'of', 'survivors', 'associated', 'not', 'film', 'relationship', 'based', 'and', \"it's\", 'what', 'have', 'he', 'and', 'and', 'just', 'is', 'and', 'covered', 'film', 'is', 'and', 'i', 'i', 'crime', 'is', 'stiff', 'and', 'idiot', 'heard', 'easy', 'and', 'is', 'save', 'br', 'and', 'production', 'like', 'pretty', 'in', 'and', 'keaton', 'to', 'good', 'list', 'heard', 'he', 'road', 'and', 'but', 'of', 'passed', 'to', 'keaton', 'her', 'what', 'of', 'saved', 'br', 'theory', 'his', 'prior', 'and', 'if', 'of', 'because', 'saved', 'br', 'theory', 'well', 'crime', 'could', 'about', 'sudden', 'to', 'at', 'do', 'australia', 'and', 'when', 'bad', 'then', 'had', 'does', 'this', 'enough', 'movie', 'from', 'motivation', 'about', 'are', 'have', 'also', 'of', 'disappointment', 'for', 'of', 'you', 'accent', 'and', 'keaton', 'in', 'at', 'discovered', 'movie', 'all', 'there', 'an', 'while', 'him', 'introduced', 'to', 'accurate', 'of', 'passed', 'show', 'and', 'distance', 'seem', 'keaton', 'begin', 'film', 'be', 'under', 'and', 'all', 'onto', 'made', 'in', 'could', 'made', 'is', 'excellent', 'and', 'for', 'find', 'great', 'interested', 'mind', 'drawn', 'cartoon', \"don't\", 'get', 'keaton', 'older', 'this', 'of', 'you', 'just', 'is', 'macy', 'and', 'was', 'pity', 'all', \"isn't\", 'low', 'as', 'indian', 'is', 'quite', 'all', 'garbage', 'book', 'in', 'can', 'is', 'and', 'like', 'find', 'made', 'is', 'alive', 'road', 'for', 'debut', 'an', 'relative', 'cartoon', 'all', 'features', 'production', 'movie', 'be', 'fire', 'and', 'as', 'alive', 'road', '10', 'and', 'we', 'companion', 'special', 'and', 'battle', 'futuristic', 'christopher', 'have', 'can', 'and', 'humble', 'just', 'is', 'over', 'convinced', 'by', \"she's\", 'things', 'keaton', 'them', 'beautiful', 'my', 'some', 'years', 'in', 'long', 'laugh', 'br', 'of', 'list', 'heard', 'david', 'indeed', 'he', 'ease', 'and', 'all', 'lines', 'any', 'good', 'went', 'br', 'plus', 'and', 'really', 'and', 'and', 'were', 'words', 'seen', 'words', 'and', 'as', 'it', 'is', 'sam', 'liked', 'know', 'and', 'fox', '3', 'production', 'to', 'and', 'words', 'to', 'movie', 'but', 'of', 'over', 'and', 'all', 'lines', 'any', 'and', 'individuals', 'film', 'be', 'and', 'in', 'keaton', 'jay', 'them', 'game', 'in', 'sudden', 'of', 'and', 'really', 'it', 'officer', 'who', 'mark', 'and', 'and', 'no', 'as', 'era', 'all', 'and', 'and', 'and', 'br', 'and', 'and', 'movie', 'is', 'effect', 'keaton', 'big', 'lost', 'accidentally', 'in', 'typical', 'universe', 'to', 'role', 'and', 'and', 'mother', \"don't\", 'well', 'keaton', 'long', 'is', 'and', 'in', 'of', 'ruins', 'parody', 'and', 'what', 'kind', 'seconds', 'she', 'is', \"children's\", 'into', 'strikes', 'fail', 'also', 'things', 'or', 'of', \"children's\", 'to', 'also', 'of', 'distant', 'better', 'be', 'those', \"it's\", 'into', 'of', 'and', 'slasher', 'what', 'have', 'laugh', 'knife', 'this', 'to', 'can', 'take', 'at', 'titles', 'for', 'of', 'you', 'it', 'bitter', \"film's\", 'plus', 'i', 'i', 'blah', 'animals', 'of', 'you', 'it', 'and', 'go', 'that', 'it', 'this', 'throw', 'if', 'had', 'and', 'of', 'making', 'it', 'episodes', 'bit', 'are', 'so', 'and', 'really', 'camera', 'film', 'do', 'basic', 'or', 'of', 'production', 'and', 'came', 'of', 'sure', 'material', 'always', 'says', 'this', 'amusing', 'normally', 'to', 'of', 'their', 'it', 'out', 'monkeys', 'to', 'time', 'time', 'time', 'mark', 'and', 'to', 'is', 'keaton', 'for', 'and', 'production', 'it', 'out', 'sweet', 'kay', 'and', 'if', 'is', 'you', 'have', 'real', 'best', 'ever', 'in', 'production', 'not', 'find', 'is', 'him', 'you', 'in', 'character', 'film', 'women', 'her', 'have', 'well', 'dark', 'they', 'that', 'or', 'sex', 'in', 'gang']\n",
      "--- Label ---\n",
      "0\n"
     ]
    }
   ],
   "source": [
    "# Map word IDs back to words\n",
    "word2id = imdb.get_word_index()\n",
    "id2word = {i: word for word, i in word2id.items()}\n",
    "print(\"--- Review (with words) ---\")\n",
    "print([id2word.get(i, \" \") for i in X_train[7]])\n",
    "print(\"--- Label ---\")\n",
    "print(y_train[7])"
   ]
  },
  {
   "cell_type": "markdown",
   "metadata": {},
   "source": [
    "Unlike our Bag-of-Words approach, where we simply summarized the counts of each word in a document, this representation essentially retains the entire sequence of words (minus punctuation, stopwords, etc.). This is critical for RNNs to function. But it also means that now the features can be of different lengths!\n",
    "\n",
    "#### Question: Variable length reviews\n",
    "\n",
    "What is the maximum review length (in terms of number of words) in the training set? What is the minimum?\n",
    "\n",
    "#### Answer:\n",
    "\n",
    "Max = 2494\n",
    "Min = 11\n",
    "\n",
    "\n",
    "### TODO: Pad sequences\n",
    "\n",
    "In order to feed this data into your RNN, all input documents must have the same length. Let's limit the maximum review length to `max_words` by truncating longer reviews and padding shorter reviews with a null value (0). You can accomplish this easily using the [`pad_sequences()`](https://keras.io/preprocessing/sequence/#pad_sequences) function in Keras. For now, set `max_words` to 500."
   ]
  },
  {
   "cell_type": "code",
   "execution_count": 8,
   "metadata": {},
   "outputs": [
    {
     "data": {
      "text/plain": [
       "(2494, 11)"
      ]
     },
     "execution_count": 8,
     "metadata": {},
     "output_type": "execute_result"
    }
   ],
   "source": [
    "import numpy as np \n",
    "np.max(lenghts), np.min(lenghts)"
   ]
  },
  {
   "cell_type": "code",
   "execution_count": 12,
   "metadata": {},
   "outputs": [],
   "source": [
    "from keras.preprocessing import sequence\n",
    "\n",
    "# Set the maximum number of words per document (for both training and testing)\n",
    "max_words = 500\n",
    "\n",
    "# TODO: Pad sequences in X_train and X_test\n",
    "\n",
    "x_train_pad = sequence.pad_sequences(X_train,maxlen = max_words)\n",
    "X_test_pad = sequence.pad_sequences(X_test, maxlen = max_words)"
   ]
  },
  {
   "cell_type": "markdown",
   "metadata": {},
   "source": [
    "### TODO: Design an RNN model for sentiment analysis\n",
    "\n",
    "Build your model architecture in the code cell below. We have imported some layers from Keras that you might need but feel free to use any other layers / transformations you like.\n",
    "\n",
    "Remember that your input is a sequence of words (technically, integer word IDs) of maximum length = `max_words`, and your output is a binary sentiment label (0 or 1)."
   ]
  },
  {
   "cell_type": "code",
   "execution_count": 23,
   "metadata": {},
   "outputs": [
    {
     "name": "stdout",
     "output_type": "stream",
     "text": [
      "_________________________________________________________________\n",
      "Layer (type)                 Output Shape              Param #   \n",
      "=================================================================\n",
      "embedding_5 (Embedding)      (None, 500, 32)           160000    \n",
      "_________________________________________________________________\n",
      "lstm_4 (LSTM)                (None, 100)               53200     \n",
      "_________________________________________________________________\n",
      "dense_5 (Dense)              (None, 1)                 101       \n",
      "=================================================================\n",
      "Total params: 213,301\n",
      "Trainable params: 213,301\n",
      "Non-trainable params: 0\n",
      "_________________________________________________________________\n",
      "None\n"
     ]
    }
   ],
   "source": [
    "from keras.models import Sequential\n",
    "from keras.layers import Embedding, LSTM, Dense, Dropout\n",
    "\n",
    "# TODO: Design your model\n",
    "model = Sequential()\n",
    "model.add(Embedding(vocabulary_size, 32, input_length = max_words))\n",
    "model.add(LSTM(units = 100, activation = 'tanh'))\n",
    "model.add(Dense(1, activation = 'sigmoid'))\n",
    "\n",
    "print(model.summary())"
   ]
  },
  {
   "cell_type": "markdown",
   "metadata": {},
   "source": [
    "#### Question: Architecture and parameters\n",
    "\n",
    "Briefly describe your neural net architecture. How many model parameters does it have that need to be trained?\n",
    "\n",
    "#### Answer:\n",
    "\n",
    " 213,301 trainable parameters\n",
    "\n",
    "### TODO: Train and evaluate your model\n",
    "\n",
    "Now you are ready to train your model. In Keras world, you first need to _compile_ your model by specifying the loss function and optimizer you want to use while training, as well as any evaluation metrics you'd like to measure. Specify the approprate parameters, including at least one metric `'accuracy'`."
   ]
  },
  {
   "cell_type": "code",
   "execution_count": 24,
   "metadata": {},
   "outputs": [],
   "source": [
    "# TODO: Compile your model, specifying a loss function, optimizer, and metrics\n",
    "model.compile(optimizer = 'adam',loss = 'binary_crossentropy',metrics = ['accuracy'])"
   ]
  },
  {
   "cell_type": "markdown",
   "metadata": {},
   "source": [
    "Once compiled, you can kick off the training process. There are two important training parameters that you have to specify - **batch size** and **number of training epochs**, which together with your model architecture determine the total training time.\n",
    "\n",
    "Training may take a while, so grab a cup of coffee, or better, go for a hike! If possible, consider using a GPU, as a single training run can take several hours on a CPU.\n",
    "\n",
    "> **Tip**: You can split off a small portion of the training set to be used for validation during training. This will help monitor the training process and identify potential overfitting. You can supply a validation set to `model.fit()` using its `validation_data` parameter, or just specify `validation_split` - a fraction of the training data for Keras to set aside for this purpose (typically 5-10%). Validation metrics are evaluated once at the end of each epoch."
   ]
  },
  {
   "cell_type": "code",
   "execution_count": 25,
   "metadata": {},
   "outputs": [
    {
     "name": "stdout",
     "output_type": "stream",
     "text": [
      "Train on 22500 samples, validate on 2500 samples\n",
      "Epoch 1/3\n",
      "22500/22500 [==============================] - 480s 21ms/step - loss: 0.4706 - acc: 0.7612 - val_loss: 0.4205 - val_acc: 0.8148\n",
      "Epoch 2/3\n",
      "22500/22500 [==============================] - 484s 21ms/step - loss: 0.3429 - acc: 0.8544 - val_loss: 0.3366 - val_acc: 0.8644\n",
      "Epoch 3/3\n",
      "22500/22500 [==============================] - 481s 21ms/step - loss: 0.2626 - acc: 0.8966 - val_loss: 0.3885 - val_acc: 0.8204\n"
     ]
    },
    {
     "data": {
      "text/plain": [
       "<keras.callbacks.History at 0x7fd986f666a0>"
      ]
     },
     "execution_count": 25,
     "metadata": {},
     "output_type": "execute_result"
    }
   ],
   "source": [
    "# TODO: Specify training parameters: batch size and number of epochs\n",
    "batch_size = 64\n",
    "num_epochs = 3\n",
    "\n",
    "# TODO(optional): Reserve/specify some training data for validation (not to be used for training)\n",
    "\n",
    "# TODO: Train your model\n",
    "model.fit(x_train_pad, y_train, validation_split = 0.1, epochs = num_epochs, batch_size = batch_size)\n"
   ]
  },
  {
   "cell_type": "code",
   "execution_count": 27,
   "metadata": {},
   "outputs": [],
   "source": [
    "import os "
   ]
  },
  {
   "cell_type": "code",
   "execution_count": 33,
   "metadata": {},
   "outputs": [],
   "source": [
    "# Save your model, so that you can quickly load it in future (and perhaps resume training)\n",
    "model_file = \"rnn_model.h5\"  # HDF5 file\n",
    "#model.save(os.path.join(cache_dir, model_file))\n",
    "\n",
    "# Later you can load it using keras.models.load_model()\n",
    "#from keras.models import load_model\n",
    "#model = load_model(os.path.join(cache_dir, model_file))"
   ]
  },
  {
   "cell_type": "markdown",
   "metadata": {},
   "source": [
    "Once you have trained your model, it's time to see how well it performs on unseen test data."
   ]
  },
  {
   "cell_type": "code",
   "execution_count": 32,
   "metadata": {},
   "outputs": [
    {
     "name": "stdout",
     "output_type": "stream",
     "text": [
      "Test accuracy: 0.8366\n"
     ]
    }
   ],
   "source": [
    "# Evaluate your model on the test set\n",
    "scores = model.evaluate(X_test_pad, y_test, verbose=0)  # returns loss and other metrics specified in model.compile()\n",
    "print(\"Test accuracy:\", scores[1])  # scores[1] should correspond to accuracy if you passed in metrics=['accuracy']"
   ]
  },
  {
   "cell_type": "markdown",
   "metadata": {},
   "source": [
    "#### Question: Comparing RNNs and Traditional Methods\n",
    "\n",
    "How well does your RNN model perform compared to the BoW + Gradient-Boosted Decision Trees?\n",
    "\n",
    "#### Answer:\n",
    "While our Bow + GradientBoosted scored around 81% on our test set, the RNN model with LSTM and embedding layers got around 83% on our test set.\n",
    "\n",
    "## Extensions\n",
    "\n",
    "There are several ways in which you can build upon this notebook. Each comes with its set of challenges, but can be a rewarding experience.\n",
    "\n",
    "- The first thing is to try and improve the accuracy of your model by experimenting with different architectures, layers and parameters. How good can you get without taking prohibitively long to train? How do you prevent overfitting?\n",
    "\n",
    "- Then, you may want to deploy your model as a mobile app or web service. What do you need to do in order to package your model for such deployment? How would you accept a new review, convert it into a form suitable for your model, and perform the actual prediction? (Note that the same environment you used during training may not be available.)\n",
    "\n",
    "- One simplification we made in this notebook is to limit the task to binary classification. The dataset actually includes a more fine-grained review rating that is indicated in each review's filename (which is of the form `<[id]_[rating].txt>` where `[id]` is a unique identifier and `[rating]` is on a scale of 1-10; note that neutral reviews > 4 or < 7 have been excluded). How would you modify the notebook to perform regression on the review ratings? In what situations is regression more useful than classification, and vice-versa?\n",
    "\n",
    "Whatever direction you take, make sure to share your results and learnings with your peers, through blogs, discussions and participating in online competitions. This is also a great way to become more visible to potential employers!"
   ]
  },
  {
   "cell_type": "code",
   "execution_count": null,
   "metadata": {
    "collapsed": true
   },
   "outputs": [],
   "source": []
  }
 ],
 "metadata": {
  "kernelspec": {
   "display_name": "Python 3",
   "language": "python",
   "name": "python3"
  },
  "language_info": {
   "codemirror_mode": {
    "name": "ipython",
    "version": 3
   },
   "file_extension": ".py",
   "mimetype": "text/x-python",
   "name": "python",
   "nbconvert_exporter": "python",
   "pygments_lexer": "ipython3",
   "version": "3.6.3"
  }
 },
 "nbformat": 4,
 "nbformat_minor": 2
}
